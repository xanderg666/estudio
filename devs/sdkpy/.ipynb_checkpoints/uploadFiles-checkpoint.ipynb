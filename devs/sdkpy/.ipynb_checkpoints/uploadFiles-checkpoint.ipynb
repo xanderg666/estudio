{
 "cells": [
  {
   "cell_type": "code",
   "execution_count": null,
   "id": "c0a3a25c",
   "metadata": {},
   "outputs": [],
   "source": [
    "from oci.config import from_file\n",
    "import oci\n",
    "from oci.signer import Signer\n",
    "import os, io"
   ]
  },
  {
   "cell_type": "code",
   "execution_count": null,
   "id": "9b8a85ef",
   "metadata": {},
   "outputs": [],
   "source": [
    "config = from_file(file_location=\"~/.oci/configredbull\")"
   ]
  },
  {
   "cell_type": "code",
   "execution_count": null,
   "id": "753f6999",
   "metadata": {},
   "outputs": [],
   "source": [
    "budget_client = oci.budget.BudgetClient(config)\n",
    "bucket_name = \"CE_JAGM_Sales_Data\""
   ]
  },
  {
   "cell_type": "code",
   "execution_count": null,
   "id": "b35e8057",
   "metadata": {},
   "outputs": [],
   "source": [
    "#http://www.dominicgiles.com/blog/files/edc48236165eb010807ef6e8262a1711-165.html\n",
    "\n",
    "object_storage_client = oci.object_storage.ObjectStorageClient(config)\n",
    "namespace = object_storage_client.get_namespace().data\n",
    "print(namespace)"
   ]
  },
  {
   "cell_type": "code",
   "execution_count": null,
   "id": "1f6ab2ce",
   "metadata": {},
   "outputs": [],
   "source": [
    "# directorio donde estan los archivos locales\n",
    "directory = 'data/northwind-neo4j/data/'\n",
    "files_to_process = [file for file in os.listdir(directory) if file.endswith('csv')]\n",
    "files_to_process"
   ]
  },
  {
   "cell_type": "code",
   "execution_count": null,
   "id": "32193072",
   "metadata": {},
   "outputs": [],
   "source": [
    "#crear si no existe el bucket\n",
    "try:\n",
    "    create_bucket_response = object_storage_client.create_bucket(\n",
    "        namespace,\n",
    "        oci.object_storage.models.CreateBucketDetails(\n",
    "            name=bucket_name,\n",
    "            compartment_id=config['tenancy']\n",
    "        )\n",
    "    )\n",
    "except Exception as e:\n",
    "    print(e.message)"
   ]
  },
  {
   "cell_type": "code",
   "execution_count": null,
   "id": "bd980064",
   "metadata": {},
   "outputs": [],
   "source": [
    "# subir la informacion\n",
    "for upload_file in files_to_process:\n",
    "    print('Uploading file {}'.format(upload_file))\n",
    "    object_storage_client.put_object(namespace, bucket_name, upload_file, io.open(os.path.join(directory,upload_file),'r'))"
   ]
  },
  {
   "cell_type": "code",
   "execution_count": null,
   "id": "67b508db",
   "metadata": {},
   "outputs": [],
   "source": []
  },
  {
   "cell_type": "code",
   "execution_count": null,
   "id": "884a3684",
   "metadata": {},
   "outputs": [],
   "source": []
  },
  {
   "cell_type": "code",
   "execution_count": null,
   "id": "bfd91ad0",
   "metadata": {},
   "outputs": [],
   "source": [
    "config = oci.config.from_file(\"C:/Users/jorge/PycharmProjects/oci/venv/jorgeg/sdkpy/config\") # replace with the location of your oci config file\n",
    "auth = Signer(\n",
    "  tenancy=config['tenancy'],\n",
    "  user=config['user'],\n",
    "  fingerprint=config['fingerprint'],\n",
    "  private_key_file_location=config['key_file'],\n",
    "  pass_phrase=config['pass_phrase'])"
   ]
  },
  {
   "cell_type": "code",
   "execution_count": null,
   "id": "e2992e9f",
   "metadata": {},
   "outputs": [],
   "source": []
  },
  {
   "cell_type": "code",
   "execution_count": null,
   "id": "02edb571",
   "metadata": {},
   "outputs": [],
   "source": []
  },
  {
   "cell_type": "code",
   "execution_count": null,
   "id": "3c60a105",
   "metadata": {},
   "outputs": [],
   "source": []
  },
  {
   "cell_type": "code",
   "execution_count": null,
   "id": "5116cedc",
   "metadata": {},
   "outputs": [],
   "source": []
  },
  {
   "cell_type": "code",
   "execution_count": null,
   "id": "368c091f",
   "metadata": {},
   "outputs": [],
   "source": []
  },
  {
   "cell_type": "code",
   "execution_count": null,
   "id": "31479708",
   "metadata": {},
   "outputs": [],
   "source": []
  },
  {
   "cell_type": "code",
   "execution_count": null,
   "id": "12c80375",
   "metadata": {},
   "outputs": [],
   "source": [
    "config = from_file(file_location=\"config\")"
   ]
  },
  {
   "cell_type": "code",
   "execution_count": null,
   "id": "b69e1808",
   "metadata": {},
   "outputs": [],
   "source": []
  },
  {
   "cell_type": "code",
   "execution_count": null,
   "id": "bcc7f1bd",
   "metadata": {},
   "outputs": [],
   "source": []
  },
  {
   "cell_type": "code",
   "execution_count": null,
   "id": "675561de",
   "metadata": {},
   "outputs": [],
   "source": [
    "import requests\n",
    "import oci\n"
   ]
  },
  {
   "cell_type": "code",
   "execution_count": null,
   "id": "9e096fdf",
   "metadata": {},
   "outputs": [],
   "source": []
  },
  {
   "cell_type": "code",
   "execution_count": null,
   "id": "f5ca9e0a",
   "metadata": {},
   "outputs": [],
   "source": []
  },
  {
   "cell_type": "markdown",
   "id": "33ea52aa",
   "metadata": {},
   "source": [
    "import oci\n",
    "\n",
    "# Create a default config using DEFAULT profile in default location\n",
    "# Refer to\n",
    "# https://docs.cloud.oracle.com/en-us/iaas/Content/API/Concepts/sdkconfig.htm#SDK_and_CLI_Configuration_File\n",
    "# for more info\n",
    "config = oci.config.from_file()\n",
    "\n",
    "\n",
    "\n",
    "# Initialize service client with default config file\n",
    "budget_client = oci.budget.BudgetClient(config)\n"
   ]
  },
  {
   "cell_type": "markdown",
   "id": "7d31a428",
   "metadata": {},
   "source": [
    "# subir datos al bucket"
   ]
  },
  {
   "cell_type": "code",
   "execution_count": null,
   "id": "dfcb3f09",
   "metadata": {},
   "outputs": [],
   "source": [
    "\n",
    "\n",
    "#http://www.dominicgiles.com/blog/files/edc48236165eb010807ef6e8262a1711-165.html\n",
    "\n",
    "object_storage_client = oci.object_storage.ObjectStorageClient(config)\n",
    "namespace = object_storage_client.get_namespace().data\n",
    "print(namespace)"
   ]
  },
  {
   "cell_type": "code",
   "execution_count": null,
   "id": "532c0199",
   "metadata": {},
   "outputs": [],
   "source": [
    "import os, io"
   ]
  },
  {
   "cell_type": "code",
   "execution_count": null,
   "id": "97feccc3",
   "metadata": {},
   "outputs": [],
   "source": [
    "directory = 'data/northwind-neo4j/data/'\n",
    "files_to_process = [file for file in os.listdir(directory) if file.endswith('csv')]"
   ]
  },
  {
   "cell_type": "code",
   "execution_count": null,
   "id": "b7acac8d",
   "metadata": {},
   "outputs": [],
   "source": [
    "\n",
    "\n",
    "try:\n",
    "    create_bucket_response = object_storage_client.create_bucket(\n",
    "        namespace,\n",
    "        oci.object_storage.models.CreateBucketDetails(\n",
    "            name='CE_JAGM_Sales_Data',\n",
    "            compartment_id=config['tenancy']\n",
    "        )\n",
    "    )\n",
    "except Exception as e:\n",
    "    print(e.message)\n",
    "\n"
   ]
  },
  {
   "cell_type": "code",
   "execution_count": null,
   "id": "19871edb",
   "metadata": {},
   "outputs": [],
   "source": [
    "bucket_name = 'CE_JAGM_Sales_Data'\n",
    "for upload_file in files_to_process:\n",
    "    print('Uploading file {}'.format(upload_file))\n",
    "    object_storage_client.put_object(namespace, bucket_name, upload_file, io.open(os.path.join(directory,upload_file),'r'))"
   ]
  },
  {
   "cell_type": "code",
   "execution_count": null,
   "id": "839a9055",
   "metadata": {},
   "outputs": [],
   "source": []
  }
 ],
 "metadata": {
  "kernelspec": {
   "display_name": "Python 3 (ipykernel)",
   "language": "python",
   "name": "python3"
  },
  "language_info": {
   "codemirror_mode": {
    "name": "ipython",
    "version": 3
   },
   "file_extension": ".py",
   "mimetype": "text/x-python",
   "name": "python",
   "nbconvert_exporter": "python",
   "pygments_lexer": "ipython3",
   "version": "3.9.5"
  }
 },
 "nbformat": 4,
 "nbformat_minor": 5
}
